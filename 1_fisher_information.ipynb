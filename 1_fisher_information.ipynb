{
 "cells": [
  {
   "cell_type": "markdown",
   "id": "0c21e501",
   "metadata": {},
   "source": [
    "In this notebook, we will discuss about the Fisher information analysis as a method to quantify parametric uncertainty.\n",
    "Note that this is a local method.\n",
    "\n",
    "Recall that we will use the following notations:\n",
    "* $y \\in \\mathbb{R}^M$ are the observed data,\n",
    "* $f(\\theta; t)$ is the parameterized model,\n",
    "* $\\theta \\in \\mathbb{R}^N$ are the parameters of the model,\n",
    "* $t$ are the independent variables corresponding to the data,\n",
    "* $M$ and $N$ are the number of data points (and model output) and parameters, respectively."
   ]
  },
  {
   "cell_type": "code",
   "execution_count": 1,
   "id": "33514e87",
   "metadata": {
    "ExecuteTime": {
     "end_time": "2023-06-11T21:14:00.320320Z",
     "start_time": "2023-06-11T21:14:00.282892Z"
    }
   },
   "outputs": [],
   "source": [
    "import numpy as np\n",
    "import matplotlib as mpl\n",
    "import matplotlib.pyplot as plt\n",
    "from mpl_toolkits import mplot3d\n",
    "\n",
    "%matplotlib inline\n",
    "plt.style.use(\"default\")"
   ]
  },
  {
   "cell_type": "markdown",
   "id": "16fbdfe2",
   "metadata": {},
   "source": [
    "# Definition"
   ]
  },
  {
   "cell_type": "markdown",
   "id": "dd01a1d4",
   "metadata": {},
   "source": [
    "The Fisher information matrix (FIM) measures the information that the data carries about the parameters of the model.\n",
    "It is defined as\n",
    "\\begin{equation}\n",
    "    \\mathcal{I}(\\theta) = -E_y \\left[ \\frac{\\partial^2 \\log \\mathcal{L}(\\theta|y)}{\\partial \\theta^2} \\middle| \\theta\\right]\n",
    "    = E_y \\left[ \\left( \\frac{\\partial \\log \\mathcal{L}(\\theta|y)}{\\partial \\theta} \\right)^2 \\middle| \\theta\\right],\n",
    "\\end{equation}\n",
    "where $E_y[\\cdot]$ denotes the expectation value over the probability of the data $y$, $P(y)$[^1], and the evaluation point is taken to be the best fit parameters (or the maximum likelihood estimator).\n",
    "With the special case of a least-squares problem, this equation is simplified to\n",
    "\\begin{equation}\n",
    "    \\mathcal{I}(\\theta) = J(\\theta)^T W J(\\theta),\n",
    "\\end{equation}\n",
    "where\n",
    "\\begin{equation}\n",
    "    J(\\theta)_{mn} = \\frac{\\partial f(\\theta; t_m)}{\\partial \\theta_n} \\bigg|_\\theta\n",
    "\\end{equation}\n",
    "is the Jacobian matrix and $W$ is the diagonal matrix containing the weights of the data in the least-squares problem,\n",
    "\\begin{equation}\n",
    "    \\text{diag}(W) =\n",
    "        \\begin{bmatrix}\n",
    "            \\sigma_0^{-2} & \\sigma_1^{-2} & \\cdots \\sigma_{M-1}^{-2}\n",
    "        \\end{bmatrix}.\n",
    "\\end{equation}\n",
    "\n",
    "As an alternative, the FIM can also be calculated using the residual function as\n",
    "\\begin{equation}\n",
    "    \\mathcal{I}(\\theta) = J_r(\\theta)^T J_r(\\theta),\n",
    "\\end{equation}\n",
    "where\n",
    "\\begin{equation}\n",
    "    \\left(J_r(\\theta)\\right)_{mn} = \\frac{1}{\\sigma_m} \\frac{\\partial f(\\theta; t_m)}{\\partial \\theta_n},\n",
    "\\end{equation}\n",
    "and the expression on the right-hand side is obtained from taking the derivative of the residual function.\n",
    "\n",
    "\n",
    "\n",
    "\n",
    "[^1]: The following YouTube [video](https://youtu.be/pneluWj-U-o) shows where this equation comes from using simple examples."
   ]
  },
  {
   "cell_type": "markdown",
   "id": "c95d9c10",
   "metadata": {},
   "source": [
    "Before computing the FIM, let's define the model.\n",
    "In this example, we will still use the fractional model."
   ]
  },
  {
   "cell_type": "code",
   "execution_count": 2,
   "id": "2c2d6a93",
   "metadata": {
    "ExecuteTime": {
     "end_time": "2023-06-11T21:14:00.333710Z",
     "start_time": "2023-06-11T21:14:00.322977Z"
    }
   },
   "outputs": [],
   "source": [
    "from model import FractionalModel\n",
    "import scipy.optimize as scopt"
   ]
  },
  {
   "cell_type": "code",
   "execution_count": 3,
   "id": "2ec41cb2",
   "metadata": {
    "ExecuteTime": {
     "end_time": "2023-06-11T21:14:00.343338Z",
     "start_time": "2023-06-11T21:14:00.336572Z"
    }
   },
   "outputs": [],
   "source": [
    "# Define the model\n",
    "t = np.array([0.1, 1.0, 1.1])\n",
    "data = np.array([10.0, 0.7, 0.7])\n",
    "data_error = 0.1 * data\n",
    "\n",
    "\n",
    "def transform(theta):\n",
    "    \"\"\"Parameter transformation function phi.\"\"\"\n",
    "    return np.exp(theta)\n",
    "\n",
    "\n",
    "model = FractionalModel(N=2, t=t, data=data, data_error=data_error, transform=transform)"
   ]
  },
  {
   "cell_type": "code",
   "execution_count": 4,
   "id": "3bb15654",
   "metadata": {
    "ExecuteTime": {
     "end_time": "2023-06-11T21:14:00.362928Z",
     "start_time": "2023-06-11T21:14:00.348360Z"
    }
   },
   "outputs": [
    {
     "name": "stdout",
     "output_type": "stream",
     "text": [
      "     message: `ftol` termination condition is satisfied.\n",
      "     success: True\n",
      "      status: 2\n",
      "         fun: [ 5.796e-03 -7.197e-01  8.986e-01]\n",
      "           x: [-2.763e+00 -1.311e+00]\n",
      "        cost: 0.6627336391269714\n",
      "         jac: [[ 6.303e+00  2.692e+00]\n",
      "               [ 5.076e-01  2.168e+00]\n",
      "               [ 3.659e-01  1.719e+00]]\n",
      "        grad: [ 9.116e-09 -1.049e-07]\n",
      "  optimality: 1.0491659953720616e-07\n",
      " active_mask: [0 0]\n",
      "        nfev: 24\n",
      "        njev: None\n"
     ]
    }
   ],
   "source": [
    "# Train the model\n",
    "opt = scopt.least_squares(model.residual, np.zeros(model.N), method=\"lm\")\n",
    "bestfit = opt.x\n",
    "print(opt)"
   ]
  },
  {
   "cell_type": "markdown",
   "id": "4d785646",
   "metadata": {},
   "source": [
    "Let's compute the FIM by taking numerical derivative of the residual function."
   ]
  },
  {
   "cell_type": "code",
   "execution_count": 5,
   "id": "e5b047e9",
   "metadata": {
    "ExecuteTime": {
     "end_time": "2023-06-11T21:14:00.397983Z",
     "start_time": "2023-06-11T21:14:00.365408Z"
    }
   },
   "outputs": [],
   "source": [
    "import numdifftools as nd"
   ]
  },
  {
   "cell_type": "code",
   "execution_count": 6,
   "id": "8c06d39e",
   "metadata": {
    "ExecuteTime": {
     "end_time": "2023-06-11T21:14:00.423416Z",
     "start_time": "2023-06-11T21:14:00.400265Z"
    }
   },
   "outputs": [
    {
     "name": "stdout",
     "output_type": "stream",
     "text": [
      "[[40.11855369 18.69987355]\n",
      " [18.69987355 14.90658281]]\n"
     ]
    }
   ],
   "source": [
    "jmodel = nd.Jacobian(model.residual)\n",
    "Jr = jmodel(bestfit)\n",
    "I = Jr.T @ Jr\n",
    "print(I)"
   ]
  },
  {
   "cell_type": "markdown",
   "id": "3a2466c5",
   "metadata": {},
   "source": [
    "# Interpretation"
   ]
  },
  {
   "cell_type": "markdown",
   "id": "5a06bbba",
   "metadata": {},
   "source": [
    "The FIM gives an approximation to the covariance matrix around the MLE,\n",
    "\\begin{equation}\n",
    "    \\text{Cov}(\\theta) \\approx \\mathcal{I}(\\theta)^{-1}.\n",
    "\\end{equation}\n",
    "\n",
    "Additionally, the FIM also describe the local shape of the cost (or likelihood) surface.\n",
    "Around the best fit (or MLE), the contours on the cost surface look like ellipses.\n",
    "The eigenvectors of the FIM describe the orientation of these ellipses, while the eigenvalues are related to the size of the ellipses.\n",
    "\n",
    "To understand this interpretation, let's look at the FIM of our toy model and its eigenvalues and eigenvectors."
   ]
  },
  {
   "cell_type": "code",
   "execution_count": 7,
   "id": "ca638783",
   "metadata": {
    "ExecuteTime": {
     "end_time": "2023-06-11T21:14:00.669478Z",
     "start_time": "2023-06-11T21:14:00.425900Z"
    }
   },
   "outputs": [],
   "source": [
    "# Generate data to plot the cost surface\n",
    "params_list = np.linspace(-6, 2, 100)\n",
    "P0, P1 = np.meshgrid(params_list, params_list)  # Parameter grid\n",
    "\n",
    "COST = np.zeros_like(P0)\n",
    "for ii in range(len(params_list)):\n",
    "    for jj in range(len(params_list)):\n",
    "        params = np.array([P0[ii, jj], P1[ii, jj]])\n",
    "        COST[ii, jj] = model.cost(params)"
   ]
  },
  {
   "cell_type": "code",
   "execution_count": 8,
   "id": "663e7d9c",
   "metadata": {
    "ExecuteTime": {
     "end_time": "2023-06-11T21:14:00.682131Z",
     "start_time": "2023-06-11T21:14:00.672222Z"
    }
   },
   "outputs": [
    {
     "name": "stdout",
     "output_type": "stream",
     "text": [
      "[ 4.96049208 50.06464442]\n"
     ]
    }
   ],
   "source": [
    "# Eigenvalue decomposition of the FIM\n",
    "eigvals, eigvecs = np.linalg.eigh(I)\n",
    "print(eigvals)"
   ]
  },
  {
   "cell_type": "code",
   "execution_count": 9,
   "id": "414801ba",
   "metadata": {
    "ExecuteTime": {
     "end_time": "2023-06-11T21:14:01.017020Z",
     "start_time": "2023-06-11T21:14:00.684935Z"
    }
   },
   "outputs": [
    {
     "data": {
      "image/png": "[encoded data removed]",
      "text/plain": [
       "<Figure size 640x480 with 2 Axes>"
      ]
     },
     "metadata": {},
     "output_type": "display_data"
    }
   ],
   "source": [
    "# Plot the eigenvectors of the FIM on top of the cost surface. The vectors are scaled\n",
    "# by 1/sqrt(lambda).\n",
    "plt.figure()\n",
    "im = plt.contourf(\n",
    "    P0, P1, COST, locator=mpl.ticker.LogLocator(), levels=np.logspace(-1, 4, 16)\n",
    ")\n",
    "clb = plt.colorbar(im)\n",
    "plt.plot(*bestfit, \"ko\", label=\"best fit\")\n",
    "\n",
    "cvecs = [\"red\", \"blue\"]\n",
    "for lam, v, c in zip(eigvals, eigvecs.T, cvecs):\n",
    "    scale = np.sqrt(lam)\n",
    "    plt.quiver(*bestfit, *v, scale=scale, color=c)\n",
    "\n",
    "plt.xlabel(r\"$\\theta_0$\")\n",
    "plt.ylabel(r\"$\\theta_1$\")\n",
    "clb.set_label(\"Cost\")\n",
    "plt.gca().set_aspect(1)\n",
    "plt.legend()\n",
    "plt.show()"
   ]
  },
  {
   "cell_type": "markdown",
   "id": "fdc4bc75",
   "metadata": {},
   "source": [
    "The blue arrow is the eigenvector first eigenvector, $\\vec{v}_0$, corresponding to the largest eigenvalue, $\\lambda_0$.\n",
    "The lengths of these eigenvectors are\n",
    "\\begin{equation}\n",
    "    \\Vert \\vec{v}_n \\Vert = \\frac{1}{\\sqrt{\\lambda_n}}.\n",
    "\\end{equation}\n",
    "\n",
    "Notice that perturbation in the $\\vec{v}_0$ direction leads to the most significant change in the model output.\n",
    "This is the sensitive or stiff parameter direction.\n",
    "Where $\\vec{v}_1$ shows the insensitive or sloppy parameter combination.\n",
    "The stiff parameter also shows that the data contains a lot of information about this parameter, thus the data are able to well constrain this parameter.\n",
    "Thus, the size of the ellipses (and thus the magnitude of the eigenvalues of the FIM) shows both the uncertainty of the parameters and the information that the data carries about the parameters."
   ]
  },
  {
   "cell_type": "markdown",
   "id": "80e7f61c",
   "metadata": {},
   "source": [
    "Additional note:  \n",
    "The FIM analysis done so far is considered as a frequentist analysis since there is no information about prior knowledge of the parameters used.\n",
    "However, there is a modification that is often done to make it a Bayesian analysis by using the posterior distribution instead of the likelihood function in the calculation."
   ]
  },
  {
   "cell_type": "code",
   "execution_count": null,
   "id": "4f4995bf",
   "metadata": {},
   "outputs": [],
   "source": []
  }
 ],
 "metadata": {
  "kernelspec": {
   "display_name": "Python 3 (ipykernel)",
   "language": "python",
   "name": "python3"
  },
  "language_info": {
   "codemirror_mode": {
    "name": "ipython",
    "version": 3
   },
   "file_extension": ".py",
   "mimetype": "text/x-python",
   "name": "python",
   "nbconvert_exporter": "python",
   "pygments_lexer": "ipython3",
   "version": "3.10.12"
  },
  "toc": {
   "base_numbering": 1,
   "nav_menu": {},
   "number_sections": true,
   "sideBar": false,
   "skip_h1_title": false,
   "title_cell": "Table of Contents",
   "title_sidebar": "Contents",
   "toc_cell": false,
   "toc_position": {},
   "toc_section_display": true,
   "toc_window_display": false
  },
  "varInspector": {
   "cols": {
    "lenName": 16,
    "lenType": 16,
    "lenVar": 40
   },
   "kernels_config": {
    "python": {
     "delete_cmd_postfix": "",
     "delete_cmd_prefix": "del ",
     "library": "var_list.py",
     "varRefreshCmd": "print(var_dic_list())"
    },
    "r": {
     "delete_cmd_postfix": ") ",
     "delete_cmd_prefix": "rm(",
     "library": "var_list.r",
     "varRefreshCmd": "cat(var_dic_list()) "
    }
   },
   "types_to_exclude": [
    "module",
    "function",
    "builtin_function_or_method",
    "instance",
    "_Feature"
   ],
   "window_display": false
  }
 },
 "nbformat": 4,
 "nbformat_minor": 5
}
